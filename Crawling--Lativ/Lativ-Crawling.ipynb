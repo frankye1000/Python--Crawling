{
 "cells": [
  {
   "cell_type": "code",
   "execution_count": 2,
   "metadata": {
    "collapsed": true
   },
   "outputs": [],
   "source": [
    "import requests\n",
    "from bs4 import BeautifulSoup\n",
    "import re\n",
    "import json #json.dumps()轉成json格式 json.load轉成格式\n",
    "URL = 'https://www.lativ.com.tw/MEN/'\n",
    "resp = requests.get(URL)\n",
    "soup = BeautifulSoup(resp.text,'html5lib')\n",
    "select1 = soup.select('li > a')\n",
    "list_urls=[]\n",
    "for url in select1:\n",
    "    urls = url.get('href')\n",
    "    list_urls.append(urls)\n",
    "urls = []\n",
    "DOMAIN = \"https://www.lativ.com.tw\"\n",
    "for url in list_urls:\n",
    "    if re.findall(r'^(/MEN/.+)', url):\n",
    "        urls.append(DOMAIN + re.findall(r'^(/MEN/.+)', url)[0])\n",
    "with open('URL','w') as f :\n",
    "    f.write(json.dumps(urls))"
   ]
  },
  {
   "cell_type": "code",
   "execution_count": 5,
   "metadata": {
    "scrolled": true
   },
   "outputs": [
    {
     "data": {
      "text/plain": [
       "['https://www.lativ.com.tw/Detail/32459011',\n",
       " 'https://www.lativ.com.tw/Detail/32460012',\n",
       " 'https://www.lativ.com.tw/Detail/32461011',\n",
       " 'https://www.lativ.com.tw/Detail/30558013',\n",
       " 'https://www.lativ.com.tw/Detail/30560012',\n",
       " 'https://www.lativ.com.tw/Detail/30559012',\n",
       " 'https://www.lativ.com.tw/Detail/30541013',\n",
       " 'https://www.lativ.com.tw/Detail/30540013',\n",
       " 'https://www.lativ.com.tw/Detail/32538011',\n",
       " 'https://www.lativ.com.tw/Detail/32540012',\n",
       " 'https://www.lativ.com.tw/Detail/32539012',\n",
       " 'https://www.lativ.com.tw/Detail/32469011',\n",
       " 'https://www.lativ.com.tw/Detail/32468011',\n",
       " 'https://www.lativ.com.tw/Detail/32467011',\n",
       " 'https://www.lativ.com.tw/Detail/30826013',\n",
       " 'https://www.lativ.com.tw/Detail/30819011',\n",
       " 'https://www.lativ.com.tw/Detail/32623011',\n",
       " 'https://www.lativ.com.tw/Detail/32476011',\n",
       " 'https://www.lativ.com.tw/Detail/32480011',\n",
       " 'https://www.lativ.com.tw/Detail/32475011',\n",
       " 'https://www.lativ.com.tw/Detail/32479011',\n",
       " 'https://www.lativ.com.tw/Detail/32478011',\n",
       " 'https://www.lativ.com.tw/Detail/32477011',\n",
       " 'https://www.lativ.com.tw/Detail/30721015',\n",
       " 'https://www.lativ.com.tw/Detail/30716012',\n",
       " 'https://www.lativ.com.tw/Detail/30720015',\n",
       " 'https://www.lativ.com.tw/Detail/32529011',\n",
       " 'https://www.lativ.com.tw/Detail/32527011',\n",
       " 'https://www.lativ.com.tw/Detail/32530011',\n",
       " 'https://www.lativ.com.tw/Detail/32528011',\n",
       " 'https://www.lativ.com.tw/Detail/32482011',\n",
       " 'https://www.lativ.com.tw/Detail/32481011',\n",
       " 'https://www.lativ.com.tw/Detail/32483011',\n",
       " 'https://www.lativ.com.tw/Detail/30598015',\n",
       " 'https://www.lativ.com.tw/Detail/32491012',\n",
       " 'https://www.lativ.com.tw/Detail/32490011',\n",
       " 'https://www.lativ.com.tw/Detail/32552011',\n",
       " 'https://www.lativ.com.tw/Detail/32553011',\n",
       " 'https://www.lativ.com.tw/Detail/32551011',\n",
       " 'https://www.lativ.com.tw/Detail/32567011',\n",
       " 'https://www.lativ.com.tw/Detail/32568011',\n",
       " 'https://www.lativ.com.tw/Detail/32578011',\n",
       " 'https://www.lativ.com.tw/Detail/32577011',\n",
       " 'https://www.lativ.com.tw/Detail/32593011',\n",
       " 'https://www.lativ.com.tw/Detail/32595011',\n",
       " 'https://www.lativ.com.tw/Detail/32509011',\n",
       " 'https://www.lativ.com.tw/Detail/32563011',\n",
       " 'https://www.lativ.com.tw/Detail/32565011',\n",
       " 'https://www.lativ.com.tw/Detail/32566011']"
      ]
     },
     "execution_count": 5,
     "metadata": {},
     "output_type": "execute_result"
    }
   ],
   "source": [
    "with open('URL','r') as f:\n",
    "    r = f.read()\n",
    "refind = r.replace('\"','').strip('[]').split(',')\n",
    "# print(refind[0])\n",
    "numbers_list=[]\n",
    "for i in range(0,1):#len(refind)\n",
    "    resp1 = requests.get(refind[i])\n",
    "    soup = BeautifulSoup(resp1.text,'html5lib')\n",
    "    numbers = soup.select('li > a')\n",
    "    for number in numbers:\n",
    "        Domain = 'https://www.lativ.com.tw'\n",
    "        if number.get('href').startswith('/Detail/'):\n",
    "            nb = number.get('href')\n",
    "            \n",
    "            numbers_list.append(Domain+nb)\n",
    "with open('URL_detail','w') as f :\n",
    "    f.write(json.dumps(numbers_list))            \n",
    "        \n",
    "        \n",
    "        \n",
    "        \n",
    "numbers_list"
   ]
  },
  {
   "cell_type": "code",
   "execution_count": 6,
   "metadata": {
    "scrolled": true
   },
   "outputs": [
    {
     "name": "stdout",
     "output_type": "stream",
     "text": [
      "https://s3.lativ.com.tw/i/32459/32459011/3245901_900.jpg\n",
      "https://s3.lativ.com.tw/i/32460/32460011/3246001_900.jpg\n",
      "https://s3.lativ.com.tw/i/32461/32461011/3246101_900.jpg\n",
      "https://s3.lativ.com.tw/i/30558/30558011/3055801_900.jpg\n",
      "https://s3.lativ.com.tw/i/30560/30560011/3056001_900.jpg\n",
      "['https://s3.lativ.com.tw/i/32459/32459011/3245901_900.jpg', 'https://s3.lativ.com.tw/i/32460/32460011/3246001_900.jpg', 'https://s3.lativ.com.tw/i/32461/32461011/3246101_900.jpg', 'https://s3.lativ.com.tw/i/30558/30558011/3055801_900.jpg', 'https://s3.lativ.com.tw/i/30560/30560011/3056001_900.jpg']\n"
     ]
    }
   ],
   "source": [
    "with open('URL_detail','r') as f:\n",
    "    r1 = f.read()\n",
    "URL_s3=[]\n",
    "url_detail = r1.replace('\"','').strip('[]').split(',')\n",
    "# print(len(url_detail))#1528\n",
    "for j in range(0,5):#len(url_detail)\n",
    "    urlsss = url_detail[j]\n",
    "#     print(urlsss)#網址整理完成\n",
    "    resp2 = requests.get(urlsss)\n",
    "    soup = BeautifulSoup(resp2.text,'html5lib')\n",
    "    pictures = soup.select('img')\n",
    "#     print(pictures)#拿出IMG_500網址\n",
    "    for p in pictures:\n",
    "        if p.get('src').startswith('https://s3.lativ.com.tw/i/'):\n",
    "            p_get=p.get('src').replace('_500','_900')\n",
    "            print(p_get)\n",
    "            URL_s3.append(p_get)\n",
    "print(URL_s3)\n",
    "with open('URL_img','w') as f:\n",
    "    f.write(json.dumps(URL_s3))  "
   ]
  },
  {
   "cell_type": "code",
   "execution_count": 7,
   "metadata": {
    "collapsed": true
   },
   "outputs": [],
   "source": [
    "with open('URL_img','r') as f:\n",
    "    r2 = f.read()\n",
    "url_img = r2.replace('\"','').strip('[]').split(',')\n",
    "# print(url_img)\n",
    "for k in range(0,len(url_img)):\n",
    "    urllss = url_img[k]\n",
    "#     print(urllss)\n",
    "    filename = urllss.split('/')[-1]\n",
    "#     print(filename)\n",
    "    resp3 = requests.get(urllss)\n",
    "    \n",
    "    with open('./%s'%filename,'wb') as f:\n",
    "        f.write(resp3.content)\n",
    "        "
   ]
  },
  {
   "cell_type": "code",
   "execution_count": null,
   "metadata": {
    "collapsed": true
   },
   "outputs": [],
   "source": []
  }
 ],
 "metadata": {
  "kernelspec": {
   "display_name": "Python 3",
   "language": "python",
   "name": "python3"
  },
  "language_info": {
   "codemirror_mode": {
    "name": "ipython",
    "version": 3
   },
   "file_extension": ".py",
   "mimetype": "text/x-python",
   "name": "python",
   "nbconvert_exporter": "python",
   "pygments_lexer": "ipython3",
   "version": "3.6.1"
  }
 },
 "nbformat": 4,
 "nbformat_minor": 2
}

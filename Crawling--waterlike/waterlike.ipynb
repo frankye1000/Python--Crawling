{
 "cells": [
  {
   "cell_type": "code",
   "execution_count": null,
   "metadata": {
    "collapsed": true
   },
   "outputs": [],
   "source": [
    "import requests\n",
    "from bs4 import BeautifulSoup\n",
    "import json\n",
    "URL_list=[]\n",
    "for page in range(1,91):\n",
    "    URL = \"http://www.waterlike.com.tw/indexs2.asp?&textfield=&Page=%s&c=100\"%page\n",
    "    resp = requests.get(URL)\n",
    "    soup = BeautifulSoup(resp.text,\"html5lib\")\n",
    "    selects = soup.select('tbody > tr > td > table > tbody > tr > td > a.link-b')\n",
    "    Domain=\"http://www.waterlike.com.tw/\"\n",
    "    \n",
    "    for s in selects:\n",
    "        URL=Domain+s.get('href')\n",
    "        print(URL)#確認\n",
    "        URL_list.append(URL)\n",
    "        \n",
    "with open(\"waterlike.csv\",'w') as f:\n",
    "    f.write(json.dumps(URL_list))"
   ]
  }
 ],
 "metadata": {
  "kernelspec": {
   "display_name": "Python 3",
   "language": "python",
   "name": "python3"
  },
  "language_info": {
   "codemirror_mode": {
    "name": "ipython",
    "version": 3
   },
   "file_extension": ".py",
   "mimetype": "text/x-python",
   "name": "python",
   "nbconvert_exporter": "python",
   "pygments_lexer": "ipython3",
   "version": "3.6.1"
  }
 },
 "nbformat": 4,
 "nbformat_minor": 2
}

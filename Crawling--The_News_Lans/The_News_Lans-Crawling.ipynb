{
 "cells": [
  {
   "cell_type": "code",
   "execution_count": 4,
   "metadata": {
    "scrolled": true
   },
   "outputs": [],
   "source": [
    "import requests\n",
    "import json\n",
    "from bs4 import BeautifulSoup\n",
    "URL = []\n",
    "for page in range(0,4):#MAX1025，頁數\n",
    "    resp = requests.get('https://www.thenewslens.com/news?page=%s'%page)\n",
    "    soup = BeautifulSoup(resp.text,'html5lib')\n",
    "    selects = soup.select('div.info-box > a')\n",
    "    for i in selects:\n",
    "        if i.get('href').startswith('https://www.thenewslens.com/article/'):\n",
    "            URL_news = i.get('href')\n",
    "            \n",
    "            URL.append(URL_news)\n",
    "with open('URL_news','w') as f:\n",
    "    f.write(json.dumps(URL))\n",
    "    \n",
    "  "
   ]
  },
  {
   "cell_type": "code",
   "execution_count": 5,
   "metadata": {
    "scrolled": true
   },
   "outputs": [],
   "source": [
    "import csv\n",
    "import json\n",
    "with open('URL_news','r') as f:\n",
    "    r = f.read()\n",
    "URLs = r.strip('[]').replace('\"','').split(',')\n",
    "\n",
    "f = open('./thenewslans.csv', 'w',encoding = 'utf-8-sig') #因為會有編碼問題所以加入encoding = 'utf-8-sig'\n",
    "column_name = ['title', 'date','class', 'content']\n",
    "writer = csv.DictWriter(f, fieldnames=column_name)\n",
    "writer.writeheader() #寫入csv文件檔的行的名字\n",
    "\n",
    "article = {}\n",
    "for url in URLs:\n",
    "    resp1 = requests.get(url)\n",
    "    soup1 = BeautifulSoup(resp1.text,'html5lib')\n",
    "    \n",
    "    select1 = soup1.select('h1.article-title')\n",
    "    select2 = soup1.select('div.article-info')\n",
    "    select3 = soup1.select('div.article-content > p')\n",
    "    \n",
    "    article['title']=select1[0].text\n",
    "    \n",
    "    article['date'] =select2[0].text.strip().split(',')[0].strip()\n",
    "    article['class'] =select2[0].text.split(',')[1].strip()\n",
    "    \n",
    "    content_list = []\n",
    "    for select in select3:     #因為內容是字串所以只能用for來句句取出\n",
    "        content_list.append(select.text)\n",
    "    \n",
    "    article['content'] = content_list\n",
    "    \n",
    "    writer.writerow(article) #寫入文件的列\n",
    "\n",
    "f.close()"
   ]
  },
  {
   "cell_type": "code",
   "execution_count": 92,
   "metadata": {},
   "outputs": [
    {
     "name": "stdout",
     "output_type": "stream",
     "text": [
      "b'Hello \\xe4\\xbd\\xa0\\xe5\\xa5\\xbd'\n"
     ]
    }
   ],
   "source": [
    "s = \"Hello 你好\"\n",
    "print(s.encode(\"utf8\").decode(\"cp950\", \"ignore\"))"
   ]
  }
 ],
 "metadata": {
  "kernelspec": {
   "display_name": "Python 3",
   "language": "python",
   "name": "python3"
  },
  "language_info": {
   "codemirror_mode": {
    "name": "ipython",
    "version": 3
   },
   "file_extension": ".py",
   "mimetype": "text/x-python",
   "name": "python",
   "nbconvert_exporter": "python",
   "pygments_lexer": "ipython3",
   "version": "3.6.1"
  }
 },
 "nbformat": 4,
 "nbformat_minor": 2
}

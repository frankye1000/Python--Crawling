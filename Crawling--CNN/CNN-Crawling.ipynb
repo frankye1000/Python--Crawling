{
 "cells": [
  {
   "cell_type": "code",
   "execution_count": 2,
   "metadata": {},
   "outputs": [
    {
     "name": "stdout",
     "output_type": "stream",
     "text": [
      "['http://money.cnn.com/2017/11/07/technology/apple-tax-jersey-paradise-papers/index.html', 'http://money.cnn.com/2017/11/06/technology/uber-sexual-harassment-investment/index.html', 'http://money.cnn.com/2017/11/06/technology/apple-bug-iphone-letter-i-symbols/index.html', 'http://money.cnn.com/2017/11/06/technology/arlan-hamilton-backstage-capital/index.html', 'http://money.cnn.com/2017/11/06/technology/lamborghini-terzo-milennio/index.html', 'http://money.cnn.com/2017/11/06/technology/oslo-startup-scene-growth/index.html', 'http://money.cnn.com/2017/11/03/technology/gadgets/iphone-x-review/index.html', 'http://money.cnn.com/2017/11/03/technology/business/russian-social-media-info-ops-cyberwar/index.html']\n"
     ]
    }
   ],
   "source": [
    "import pandas as pd\n",
    "import requests\n",
    "import json\n",
    "from bs4 import BeautifulSoup\n",
    "headers = {\n",
    "    'Accept':'text/html,application/xhtml+xml,application/xml;q=0.9,image/webp,image/apng,*/*;q=0.8',\n",
    "    'Accept-Encoding':'gzip, deflate',\n",
    "    'Accept-Language':'zh-TW,zh;q=0.8,en-US;q=0.6,en;q=0.4',\n",
    "    'Cache-Control':'max-age=0',\n",
    "    'Connection':'keep-alive',\n",
    "    'Cookie':'tryThing00=9523; countryCode=TW; geoData=keelung|KEE|206|TW|AS; __qca=P0-274204611-1510031886170; _cb_ls=1; ug=5a01420d0715760a3c772e4ab80298b1; ugs=1; rvisw=1; srvisw=new%3A1; rvism=1; srvism=new%3A1; s_ppv=100; optimizelySegments=%7B%22173979470%22%3A%22direct%22%2C%22175262621%22%3A%22gc%22%2C%22175404620%22%3A%22false%22%2C%22175460039%22%3A%22none%22%7D; optimizelyBuckets=%7B%7D; optimizelyEndUserId=oeu1510031885192r0.20923258552848734; IPE_S_104983=104983; __unam=7549672-15f94ea3015-53c58327-14; gig_hasGmid=ver2; _cb=BKTbnu7ww0hBO8-9Q; _chartbeat2=.1510031891172.1510033269411.1.CZULbbDIXTAAOdvn6LX7fWBXL6Rn; _v__chartbeat3=C3lCItCRglL2B7Sdlt; s_cc=true; CG=TW:--:--; s_fid=7ACDA519320FFF58-24A938251934D26D; s_sq=%5B%5BB%5D%5D; monaprevpage_pn=mny%3Ac%3Amoney%3A%2F2017%2F11%2F06%2Ftechnology%2Fuber-sexual-harassment-investment%2F; s_vi=[CS]v1|2D00A107851D1B27-4000191060028457[CE]',\n",
    "    'Host':'money.cnn.com',\n",
    "    'Upgrade-Insecure-Requests':'1',\n",
    "    'User-Agent':'Mozilla/5.0 (Windows NT 10.0; Win64; x64) AppleWebKit/537.36 (KHTML, like Gecko) Chrome/61.0.3163.100 Safari/537.36'\n",
    "}\n",
    "URL = 'http://money.cnn.com/technology/'\n",
    "resp = requests.get(URL,headers = headers)\n",
    "soup = BeautifulSoup(resp.text,'html5lib')\n",
    "selects = soup.select('div._16wRP > a')\n",
    "URL_tec=[]\n",
    "Domain='http:'\n",
    "for i in selects:\n",
    "    if i.get('href').startswith('//money.cnn.com/2017/11/'):\n",
    "        URL_tec.append(Domain+i.get('href'))\n",
    "print(URL_tec)\n",
    "with open('URL_tech','w') as f:\n",
    "    f.write(json.dumps(URL_tec))\n",
    "    "
   ]
  },
  {
   "cell_type": "code",
   "execution_count": 3,
   "metadata": {},
   "outputs": [
    {
     "name": "stdout",
     "output_type": "stream",
     "text": [
      "Apple defends use of new tax haven after Ireland got tough\n",
      "Uber pledges $5 million to sexual assault prevention\n",
      "iPhone bug frustrates users typing 'i'\n",
      "Black, queer and female: VC founder starts her 'own league'\n",
      "Lamborghini and MIT team up on battery-free electric supercar \n",
      "World's happiest country is becoming a startup mecca\n",
      "iPhone X review: The future takes getting used to\n",
      "Is Russian social media meddling 'cyberwarfare'? \n"
     ]
    }
   ],
   "source": [
    "import pandas as pd\n",
    "with open('URL_tech','r') as f:\n",
    "    r = f.read()\n",
    "string = r.replace('\"','').strip('[]').strip('//').split(',')\n",
    "pd_list=[]\n",
    "for s in string:\n",
    "    resp1 = requests.get( s ,headers = headers)\n",
    "    soup1 = BeautifulSoup(resp1.text,'html5lib')\n",
    "    \n",
    "    news = {}\n",
    "    news['Title']    = soup1.select('div.column > h1')[0].text\n",
    "    news['Datetime'] = soup1.select('span.cnnDateStamp ')[0].text\n",
    "    print(news['Title'])\n",
    "    content_list = []\n",
    "    select3 = soup1.select('#storytext > p')\n",
    "    for i in select3:\n",
    "        content_list.append(i.text)\n",
    "    news['Contents'] = content_list \n",
    "    \n",
    "    pd_list.append(news)\n",
    "df = pd.DataFrame(pd_list)\n",
    "df.to_csv('CNN_Tech.csv')"
   ]
  }
 ],
 "metadata": {
  "kernelspec": {
   "display_name": "Python 3",
   "language": "python",
   "name": "python3"
  },
  "language_info": {
   "codemirror_mode": {
    "name": "ipython",
    "version": 3
   },
   "file_extension": ".py",
   "mimetype": "text/x-python",
   "name": "python",
   "nbconvert_exporter": "python",
   "pygments_lexer": "ipython3",
   "version": "3.6.1"
  }
 },
 "nbformat": 4,
 "nbformat_minor": 2
}

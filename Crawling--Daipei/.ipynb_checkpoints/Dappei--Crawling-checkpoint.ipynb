{
 "cells": [
  {
   "cell_type": "code",
   "execution_count": 1,
   "metadata": {
    "collapsed": true
   },
   "outputs": [],
   "source": [
    "import requests\n",
    "from bs4 import BeautifulSoup\n",
    "import json\n",
    "src=[]\n",
    "for page in range(10,18):\n",
    "    resp = requests.get('https://dappei.com/photos/%s'%page)\n",
    "    soup = BeautifulSoup(resp.text,'html5lib')\n",
    "    select = soup.select('div.photo > img')\n",
    "    \n",
    "    for i in select:\n",
    "        if i.get('src').startswith('https://images.dappei.com/uploads/photo/image/'):\n",
    "            src.append(i.get('src'))\n",
    "with open('URL_img','w') as f:\n",
    "    f.write(json.dumps(src))\n",
    "    "
   ]
  },
  {
   "cell_type": "code",
   "execution_count": 2,
   "metadata": {
    "collapsed": true
   },
   "outputs": [],
   "source": [
    "with open('URL_img','r') as f:\n",
    "    r = f.read()\n",
    "URL_img = r.strip('[]').replace('\"','').split(',')\n",
    "\n",
    "# len(URL_img)\n",
    "for j in URL_img:\n",
    "    filename = j.split('/')[-1]\n",
    "    resp1 = requests.get(j)\n",
    "    with open('%s'%filename,'wb') as f:\n",
    "        f.write(resp1.content)\n",
    "        \n"
   ]
  },
  {
   "cell_type": "code",
   "execution_count": null,
   "metadata": {
    "collapsed": true
   },
   "outputs": [],
   "source": []
  }
 ],
 "metadata": {
  "kernelspec": {
   "display_name": "Python 3",
   "language": "python",
   "name": "python3"
  },
  "language_info": {
   "codemirror_mode": {
    "name": "ipython",
    "version": 3
   },
   "file_extension": ".py",
   "mimetype": "text/x-python",
   "name": "python",
   "nbconvert_exporter": "python",
   "pygments_lexer": "ipython3",
   "version": "3.6.1"
  }
 },
 "nbformat": 4,
 "nbformat_minor": 2
}

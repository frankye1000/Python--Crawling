{
 "cells": [
  {
   "cell_type": "code",
   "execution_count": 81,
   "metadata": {},
   "outputs": [],
   "source": [
    "import pandas as pd\n",
    "import requests\n",
    "from dateutil.parser import parse\n",
    "\n",
    "token = \"your token\"\n",
    "pageID = {\n",
    "    \"pageID\":\"pageName\",\n",
    "    \"pageID\":\"pageName\"\n",
    "    }\n",
    "_list=[]\n",
    "\n",
    "\n",
    "for ID in pageID:\n",
    "    resp = requests.get(\"https://graph.facebook.com/v2.10/{}/posts?limit=100&access_token={}\".format(ID,token))\n",
    "    while \"paging\" in resp.json():\n",
    "        data = resp.json()[\"data\"]\n",
    "        for d in data:\n",
    "            try:\n",
    "                _dic={}\n",
    "                _dic[\"date\"]    = d[\"created_time\"]\n",
    "                _dic[\"content\"] = d[\"message\"]\n",
    "                _list.append(_dic)\n",
    "            except:\n",
    "                pass\n",
    "        if \"next\" in  resp.json()[\"paging\"] :\n",
    "            resp = requests.get(resp.json()[\"paging\"]['next'])\n",
    "        else:\n",
    "            break\n",
    "df = pd.DataFrame(_list)\n",
    "df.to_csv(\"FB_practice.csv\",index=False)"
   ]
  },
  {
   "cell_type": "code",
   "execution_count": 95,
   "metadata": {
    "scrolled": true
   },
   "outputs": [],
   "source": [
    "import pandas as pd\n",
    "import requests\n",
    "from dateutil.parser import parse\n",
    "\n",
    "token = \"your token\"\n",
    "pageID = {\n",
    "    \"pageID\":\"pageName\",\n",
    "    \"pageID\":\"pageName\"\n",
    "    }\n",
    "_list=[]\n",
    "\n",
    "\n",
    "for ID in pageID:\n",
    "    resp = requests.get(\"https://graph.facebook.com/v2.10/{}/posts?limit=100&access_token={}\".format(ID,token))\n",
    "    while \"paging\" in resp.json():\n",
    "        data = resp.json()[\"data\"]\n",
    "\n",
    "        for da in data:\n",
    "            \n",
    "            try:\n",
    "                _dic={}\n",
    "                _dic[\"date\"]    = da[\"created_time\"]\n",
    "                _dic[\"content\"] = da[\"message\"]\n",
    "                \n",
    "                resp_likes = requests.get(\"https://graph.facebook.com/v2.10/{}/likes?limit=100&access_token={}\".format(da[\"id\"],token))\n",
    "                data_likes = resp_likes.json()[\"data\"]\n",
    "                likes_name_list=[]\n",
    "                for da_likes in data_likes:\n",
    "                    likes_name_list.append(da_likes[\"name\"])\n",
    "                _dic[\"likes_name\"] = likes_name_list\n",
    "                \n",
    "                _list.append(_dic)\n",
    "            except:\n",
    "                pass\n",
    "            \n",
    "            \n",
    "        if \"next\" in  resp.json()[\"paging\"] :\n",
    "            resp = requests.get(resp.json()[\"paging\"]['next'])\n",
    "        else:\n",
    "            break\n",
    "df = pd.DataFrame(_list)\n",
    "df.to_csv(\"FB_likes_practice.csv\",index=False)"
   ]
  }
 ],
 "metadata": {
  "kernelspec": {
   "display_name": "Python 3",
   "language": "python",
   "name": "python3"
  },
  "language_info": {
   "codemirror_mode": {
    "name": "ipython",
    "version": 3
   },
   "file_extension": ".py",
   "mimetype": "text/x-python",
   "name": "python",
   "nbconvert_exporter": "python",
   "pygments_lexer": "ipython3",
   "version": "3.6.1"
  }
 },
 "nbformat": 4,
 "nbformat_minor": 2
}
